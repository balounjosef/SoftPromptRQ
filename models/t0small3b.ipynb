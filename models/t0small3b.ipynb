{
 "cells": [
  {
   "cell_type": "code",
   "execution_count": 1,
   "id": "6f395410",
   "metadata": {
    "pycharm": {
     "name": "#%%\n"
    }
   },
   "outputs": [
    {
     "name": "stderr",
     "output_type": "stream",
     "text": [
      "C:\\Users\\pepe\\anaconda3\\envs\\dareco\\lib\\site-packages\\tqdm\\auto.py:22: TqdmWarning: IProgress not found. Please update jupyter and ipywidgets. See https://ipywidgets.readthedocs.io/en/stable/user_install.html\n",
      "  from .autonotebook import tqdm as notebook_tqdm\n"
     ]
    }
   ],
   "source": [
    "from transformers import AutoTokenizer, AutoModelForSeq2SeqLM\n",
    "\n",
    "\n",
    "tokenizer = AutoTokenizer.from_pretrained(\"bigscience/T0_3B\")\n",
    "model = AutoModelForSeq2SeqLM.from_pretrained(\"bigscience/T0_3B\")"
   ]
  },
  {
   "cell_type": "code",
   "execution_count": 26,
   "id": "f9a7d802",
   "metadata": {
    "pycharm": {
     "name": "#%%\n"
    }
   },
   "outputs": [],
   "source": [
    "def proc(q):\n",
    "    print(q)\n",
    "    inputs = tokenizer.encode(q, return_tensors=\"pt\")\n",
    "#     print(inputs.shape)\n",
    "    outputs = model.generate(inputs)\n",
    "#     print(outputs.shape)\n",
    "    print(tokenizer.decode(outputs[0]))\n",
    "    print()"
   ]
  },
  {
   "cell_type": "code",
   "execution_count": 3,
   "id": "2d962754",
   "metadata": {
    "pycharm": {
     "name": "#%%\n"
    }
   },
   "outputs": [
    {
     "name": "stdout",
     "output_type": "stream",
     "text": [
      "Is this question a rhetorical question? Question: To be or not to be?\n"
     ]
    },
    {
     "name": "stderr",
     "output_type": "stream",
     "text": [
      "C:\\Users\\pepe\\anaconda3\\envs\\dareco\\lib\\site-packages\\transformers\\generation_utils.py:1202: UserWarning: Neither `max_length` nor `max_new_tokens` have been set, `max_length` will default to 20 (`self.config.max_length`). Controlling `max_length` via the config is deprecated and `max_length` will be removed from the config in v5 of Transformers -- we recommend using `max_new_tokens` to control the maximum length of the generation.\n",
      "  warnings.warn(\n"
     ]
    },
    {
     "name": "stdout",
     "output_type": "stream",
     "text": [
      "<pad> No</s>\n",
      "\n",
      "What type is the question? Question: Who likes the winter?\n",
      "<pad> None of the above choices.</s>\n",
      "\n",
      "Who likes the winter? It is always cold. Was it rhetorical question?\n",
      "<pad> No</s>\n",
      "\n"
     ]
    }
   ],
   "source": [
    "proc(\"Is this question a rhetorical question? Question: To be or not to be?\")\n",
    "\n",
    "proc(\"What type is the question? Question: Who likes the winter?\")\n",
    "\n",
    "proc(\"Who likes the winter? It is always cold. Was it rhetorical question?\")"
   ]
  },
  {
   "cell_type": "code",
   "execution_count": 6,
   "id": "7d3adc29",
   "metadata": {
    "pycharm": {
     "name": "#%%\n"
    }
   },
   "outputs": [
    {
     "name": "stdout",
     "output_type": "stream",
     "text": [
      "What type is the question \"Who likes the winter?\"?\n",
      "<pad> likes the winter</s>\n",
      "\n"
     ]
    }
   ],
   "source": [
    "proc('What type is the question \"Who likes the winter?\"?')"
   ]
  },
  {
   "cell_type": "code",
   "execution_count": 7,
   "id": "378741dd",
   "metadata": {
    "pycharm": {
     "name": "#%%\n"
    }
   },
   "outputs": [
    {
     "name": "stdout",
     "output_type": "stream",
     "text": [
      "What type is the question \"Who likes the winter?\"? options: open-ended, rhetorical\n",
      "<pad> open-ended</s>\n",
      "\n"
     ]
    }
   ],
   "source": [
    "proc('What type is the question \"Who likes the winter?\"? options: open-ended, rhetorical')"
   ]
  },
  {
   "cell_type": "code",
   "execution_count": 8,
   "id": "209fadad",
   "metadata": {
    "pycharm": {
     "name": "#%%\n"
    }
   },
   "outputs": [
    {
     "name": "stdout",
     "output_type": "stream",
     "text": [
      "What type is the question in \"Who likes the winter? It is always cold.\"? options: open-ended, rhetorical\n",
      "<pad> open-ended</s>\n",
      "\n"
     ]
    }
   ],
   "source": [
    "proc('What type is the question in \"Who likes the winter? It is always cold.\"? options: open-ended, rhetorical')"
   ]
  },
  {
   "cell_type": "code",
   "execution_count": 9,
   "id": "2e511dd1",
   "metadata": {
    "pycharm": {
     "name": "#%%\n"
    }
   },
   "outputs": [
    {
     "name": "stdout",
     "output_type": "stream",
     "text": [
      "What type is the question in \"Who likes the winter? It is always cold.\"? options: rhetorical, open-ended\n",
      "<pad> open-ended</s>\n",
      "\n"
     ]
    }
   ],
   "source": [
    "proc('What type is the question in \"Who likes the winter? It is always cold.\"? options: rhetorical, open-ended')"
   ]
  },
  {
   "cell_type": "code",
   "execution_count": 10,
   "id": "1ac20ae6",
   "metadata": {
    "pycharm": {
     "name": "#%%\n"
    }
   },
   "outputs": [
    {
     "name": "stdout",
     "output_type": "stream",
     "text": [
      "What type is the question in \"Who likes the winter? It is always cold.\"? options: rhetorical, non-rhetorical\n",
      "<pad> non-rhetorical</s>\n",
      "\n"
     ]
    }
   ],
   "source": [
    "proc('What type is the question in \"Who likes the winter? It is always cold.\"? options: rhetorical, non-rhetorical')"
   ]
  },
  {
   "cell_type": "code",
   "execution_count": 11,
   "id": "0aef8864",
   "metadata": {
    "pycharm": {
     "name": "#%%\n"
    }
   },
   "outputs": [
    {
     "name": "stdout",
     "output_type": "stream",
     "text": [
      "What type is the question in \"Who likes the winter? It is always cold.\"? options: non-rhetorical, rhetorical\n",
      "<pad> non-rhetorical</s>\n",
      "\n"
     ]
    }
   ],
   "source": [
    "proc('What type is the question in \"Who likes the winter? It is always cold.\"? options: non-rhetorical, rhetorical')"
   ]
  },
  {
   "cell_type": "code",
   "execution_count": 13,
   "id": "cac6a7ad",
   "metadata": {
    "pycharm": {
     "name": "#%%\n"
    }
   },
   "outputs": [
    {
     "name": "stdout",
     "output_type": "stream",
     "text": [
      "What should we investigate in research?\n",
      "<pad> We should investigate the effects of the environment on human health.</s>\n",
      "\n"
     ]
    }
   ],
   "source": [
    "proc('What should we investigate in research?')"
   ]
  },
  {
   "cell_type": "code",
   "execution_count": 14,
   "id": "439101c8",
   "metadata": {
    "pycharm": {
     "name": "#%%\n"
    }
   },
   "outputs": [
    {
     "name": "stdout",
     "output_type": "stream",
     "text": [
      "What should we investigate in natural language processing research?\n",
      "<pad> The study of language is a multi-disciplinary endeavor that involves a wide range of disciplines\n",
      "\n"
     ]
    }
   ],
   "source": [
    "proc('What should we investigate in natural language processing research?')"
   ]
  },
  {
   "cell_type": "code",
   "execution_count": 27,
   "id": "9d1ad202",
   "metadata": {
    "pycharm": {
     "name": "#%%\n"
    }
   },
   "outputs": [
    {
     "name": "stdout",
     "output_type": "stream",
     "text": [
      "What task should we investigate in natural language processing research?\n",
      "<pad> The task is to identify the speaker of a text.</s>\n",
      "\n"
     ]
    }
   ],
   "source": [
    "proc('What task should we investigate in natural language processing research?')"
   ]
  },
  {
   "cell_type": "code",
   "execution_count": 28,
   "id": "b51ddacd",
   "metadata": {
    "pycharm": {
     "name": "#%%\n"
    }
   },
   "outputs": [
    {
     "name": "stdout",
     "output_type": "stream",
     "text": [
      "What task should we investigate in natural language processing research? The task is to identify the speaker of a text. Really? Why this task?\n",
      "<pad> The speaker is the only person who can tell what the text is about.</s>\n",
      "\n"
     ]
    }
   ],
   "source": [
    "proc('What task should we investigate in natural language processing research? The task is to identify the speaker of a text. Really? Why this task?')"
   ]
  },
  {
   "cell_type": "code",
   "execution_count": 29,
   "id": "c541a745",
   "metadata": {
    "pycharm": {
     "name": "#%%\n"
    }
   },
   "outputs": [
    {
     "name": "stdout",
     "output_type": "stream",
     "text": [
      "What task should we investigate in natural language processing research? The task is to identify the speaker of a text. Really? Why this task? The speaker is the only person who can tell what the text is about. Yes, but how can it help in natural language processing field?\n",
      "<pad> The speaker is the only person who can tell what the text is about.</s>\n",
      "\n"
     ]
    }
   ],
   "source": [
    "proc('What task should we investigate in natural language processing research? The task is to identify the speaker of a text. Really? Why this task? The speaker is the only person who can tell what the text is about. Yes, but how can it help in natural language processing field?')"
   ]
  },
  {
   "cell_type": "code",
   "execution_count": 30,
   "id": "081ea23f",
   "metadata": {
    "pycharm": {
     "name": "#%%\n"
    }
   },
   "outputs": [
    {
     "name": "stdout",
     "output_type": "stream",
     "text": [
      "What task should we investigate in natural language processing research? The task is to identify the speaker of a text. How can it help in natural language processing field?\n",
      "<pad> It can help in a lot of ways.</s>\n",
      "\n"
     ]
    }
   ],
   "source": [
    "proc('What task should we investigate in natural language processing research? The task is to identify the speaker of a text. How can it help in natural language processing field?')"
   ]
  },
  {
   "cell_type": "code",
   "execution_count": 31,
   "id": "79e4eb87",
   "metadata": {
    "pycharm": {
     "name": "#%%\n"
    }
   },
   "outputs": [
    {
     "name": "stdout",
     "output_type": "stream",
     "text": [
      "What task should we investigate in natural language processing research? The task is to identify the speaker of a text. How can it help in natural language processing field? It can help in a lot of ways. Can you provide an example?\n",
      "<pad> The task is to identify the speaker of a text</s>\n",
      "\n"
     ]
    }
   ],
   "source": [
    "proc('What task should we investigate in natural language processing research? The task is to identify the speaker of a text. How can it help in natural language processing field? It can help in a lot of ways. Can you provide an example?')"
   ]
  },
  {
   "cell_type": "code",
   "execution_count": 32,
   "id": "0a7eb6d5",
   "metadata": {
    "pycharm": {
     "name": "#%%\n"
    }
   },
   "outputs": [
    {
     "name": "stdout",
     "output_type": "stream",
     "text": [
      "What task should we investigate in natural language processing research? The task is to identify the speaker of a text. provide an example: How can it help in natural language processing field?\n",
      "<pad> It can help identify the speaker of a text</s>\n",
      "\n"
     ]
    }
   ],
   "source": [
    "proc('What task should we investigate in natural language processing research? The task is to identify the speaker of a text. provide an example: How can it help in natural language processing field?')"
   ]
  },
  {
   "cell_type": "code",
   "execution_count": null,
   "id": "ad0e8ca8",
   "metadata": {
    "pycharm": {
     "name": "#%%\n"
    }
   },
   "outputs": [],
   "source": []
  }
 ],
 "metadata": {
  "kernelspec": {
   "display_name": "dareco",
   "language": "python",
   "name": "dareco"
  },
  "language_info": {
   "codemirror_mode": {
    "name": "ipython",
    "version": 3
   },
   "file_extension": ".py",
   "mimetype": "text/x-python",
   "name": "python",
   "nbconvert_exporter": "python",
   "pygments_lexer": "ipython3",
   "version": "3.10.4"
  }
 },
 "nbformat": 4,
 "nbformat_minor": 5
}